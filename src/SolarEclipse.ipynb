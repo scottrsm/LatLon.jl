{
 "cells": [
  {
   "cell_type": "markdown",
   "id": "893b284c-ba90-4718-9f03-9a40070c1193",
   "metadata": {},
   "source": [
    "## Setup"
   ]
  },
  {
   "cell_type": "code",
   "execution_count": null,
   "id": "adf7eb34-8857-4338-bcf5-d98306501f7b",
   "metadata": {},
   "outputs": [],
   "source": [
    "using LightXML\n",
    "using Plots\n",
    "using Revise\n",
    "using LatLon"
   ]
  },
  {
   "cell_type": "markdown",
   "id": "52c24a8e-9d52-488d-844e-e5472121d271",
   "metadata": {},
   "source": [
    "### Application of LatLon Package to the Study of 2023/2024 Solar Eclipse Data in the US"
   ]
  },
  {
   "cell_type": "markdown",
   "id": "4ff11a97-c6e7-46b0-80cc-2167c0f1b51f",
   "metadata": {},
   "source": [
    "#### Get the lat/lon coordinates of the Center of the Oct 2023 and Apr 2024 Eclipses in the US."
   ]
  },
  {
   "cell_type": "code",
   "execution_count": null,
   "id": "228deb75-9f38-413e-8699-4b7f83c320f2",
   "metadata": {},
   "outputs": [],
   "source": [
    "proj_path = dirname(pathof(LatLon))\n",
    "c23 = center_latlon_from_NASA_xml_file(joinpath(proj_path, \"../data/2023/center.kml\"))\n",
    "c24 = center_latlon_from_NASA_xml_file(joinpath(proj_path, \"../data/2024/center.kml\"))"
   ]
  },
  {
   "cell_type": "markdown",
   "id": "3b5ac9b5-6181-48bc-a7a8-881a78d5d995",
   "metadata": {},
   "source": [
    "#### Compute the Distance between the Two Eclipses\n",
    "Essentially, find the intersection point."
   ]
  },
  {
   "cell_type": "code",
   "execution_count": null,
   "id": "f3441e7f-896d-49fd-adf3-c7cf641c1a68",
   "metadata": {},
   "outputs": [],
   "source": [
    "d, imin, jmin = latlon_set_dist(c23, c24)\n",
    "println(\"Distance between the two sets is: $d kilometers.\")\n",
    "println(\"The distance in feet is: $(Int64(round(geo_dist(c23[:, 2350], c24[:, 2260]) * 5280 * 0.62137, digits=0))) feet.\")\n",
    "println(\"Index in the c23 data set of the intersection is: $imin\")\n",
    "println(\"Index in the c24 data set of the intersection is: $jmin\")"
   ]
  },
  {
   "cell_type": "markdown",
   "id": "405dc0a2-3b7e-4ac7-a756-3c77b84c6b18",
   "metadata": {},
   "source": [
    "#### The lat/lon of Rockwall, Texas."
   ]
  },
  {
   "cell_type": "code",
   "execution_count": null,
   "id": "c3334227-b974-4065-b173-03750c6fd7d5",
   "metadata": {},
   "outputs": [],
   "source": [
    "rw_lon = -96.458649\n",
    "rw_lat =  32.931049;"
   ]
  },
  {
   "cell_type": "markdown",
   "id": "7a0db341-2bee-4623-b576-b73df456b4d1",
   "metadata": {},
   "source": [
    "#### Find the distance between Rockwall (in kilometers) and the intersection point of the two eclipses."
   ]
  },
  {
   "cell_type": "code",
   "execution_count": null,
   "id": "4c938e3d-e327-4647-951b-525a75fc0406",
   "metadata": {},
   "outputs": [],
   "source": [
    "rw_dist_to_intersection = geo_dist([rw_lon, rw_lat], c23[:, 2350])\n",
    "println(\"Distance from Rockwall, Texas to intersection point: $(Int64(round(rw_dist_to_intersection, digits=0))) kilometers.\")\n",
    "println(\"The distance in miles is: $(Int64(round(rw_dist_to_intersection * 0.62137, digits=0))) miles.\") "
   ]
  },
  {
   "cell_type": "markdown",
   "id": "c0c88acc-9f6b-46fb-be21-9b46afecfb78",
   "metadata": {},
   "source": [
    "#### Plot the Eclipse Data"
   ]
  },
  {
   "cell_type": "code",
   "execution_count": null,
   "id": "98bf7799-81fa-480c-8d43-2219cce29b03",
   "metadata": {},
   "outputs": [],
   "source": [
    "# Intersection point\n",
    "cx, cy = c23[:, 2350]"
   ]
  },
  {
   "cell_type": "code",
   "execution_count": null,
   "id": "f5297037-52c8-4264-8b21-4a18bd8fb7b4",
   "metadata": {},
   "outputs": [],
   "source": [
    "# Lon and Lat of the 2023 center path data.\n",
    "lon23 = c23[1, :]\n",
    "lat23 = c23[2, :]\n",
    "\n",
    "# Lon and Lat of the 2024 center path data.\n",
    "lon24 = c24[1, :]\n",
    "lat24 = c24[2, :];"
   ]
  },
  {
   "cell_type": "code",
   "execution_count": null,
   "id": "989a8d03-3af6-4469-a4d6-565983a86695",
   "metadata": {},
   "outputs": [],
   "source": [
    "plot(lon23, lat23, title = \"Lat/Lon of Oct 2203 and Apr 2024 US Eclipse\\n\", label=\"Oct 2023\", lw=3)\n",
    "plot!(xlabel=\"Longitude\", ylabel=\"Latitude\", legend=:bottomright)\n",
    "plot!(lon24, lat24, linewidth=3, label=\"Apr 2024\", lw=3)\n",
    "hline!([cy], label=\"Latitude of Intersection\", lw=1.5, ls=:dash, lc=:green)\n",
    "vline!([cx], label=\"Longitude of Intersection\", lw=1.5, ls=:dash, lc=:orange)\n",
    "scatter!([rw_lon], [rw_lat], ms=3, mc=:black)"
   ]
  },
  {
   "cell_type": "markdown",
   "id": "7abde7af-2e0a-488d-b3e0-b2cbd59b7ca1",
   "metadata": {},
   "source": [
    "#### Get the Annuli Representing the \"Total\" Swath of the Eclipse Path for the 2023 and 2024 US Eclipses."
   ]
  },
  {
   "cell_type": "code",
   "execution_count": null,
   "id": "c80459b3-e488-49fa-b75c-d69af604be2d",
   "metadata": {},
   "outputs": [],
   "source": [
    "## Oct 2023 Eclipse\n",
    "proj_path=dirname(pathof(LatLon))\n",
    "mat_hi_23 = upath_latlon_from_NASA_xml_file(joinpath(proj_path, \"../data/2023/upath_hi.kml\"))\n",
    "mat_lo_23 = upath_latlon_from_NASA_xml_file(joinpath(proj_path, \"../data/2023/upath_lo.kml\"))\n",
    "\n",
    "## Apr 2024 Eclipse\n",
    "mat_hi_24 = upath_latlon_from_NASA_xml_file(joinpath(proj_path, \"../data/2024/upath_hi.kml\"))\n",
    "mat_lo_24 = upath_latlon_from_NASA_xml_file(joinpath(proj_path, \"../data/2024/upath_lo.kml\"))"
   ]
  },
  {
   "cell_type": "markdown",
   "id": "7aa53330-b507-48a6-b788-840e65a9adcc",
   "metadata": {},
   "source": [
    "#### Plot the Annuli"
   ]
  },
  {
   "cell_type": "code",
   "execution_count": null,
   "id": "861d3389-fac7-4004-a703-caabfddf2467",
   "metadata": {},
   "outputs": [],
   "source": [
    "scatter(mat_lo_23[1,:], mat_lo_23[2,:], ms=1)\n",
    "scatter!(mat_lo_24[1,:], mat_lo_24[2,:], ms=1)"
   ]
  },
  {
   "cell_type": "code",
   "execution_count": null,
   "id": "24fc0cd5-7903-456f-b945-2a0aba439d5b",
   "metadata": {},
   "outputs": [],
   "source": [
    "# Run this cell unless you have the webio-jupyterlab-provider extension installed and enabled.\n",
    "# plotlyjs()"
   ]
  },
  {
   "cell_type": "markdown",
   "id": "bb59d7da-80eb-4848-b64d-78086e9e95fb",
   "metadata": {},
   "source": [
    "#### Plot the Intersection of the Centers of the Eclipse Paths along with more Focused Annular Regions\n",
    "Also, plot Rockwall, Texas's lat/lon."
   ]
  },
  {
   "cell_type": "code",
   "execution_count": null,
   "id": "10b3d931-0180-48f4-acaa-520f15b6f050",
   "metadata": {},
   "outputs": [],
   "source": [
    "plot(lon23, lat23, title = \"Lat/Lon of Oct 2023 and Apr 2024 US Eclipses\\n\", label=\"Oct 2023 Center\", lw=1.5, lc=:blue)\n",
    "plot!(xlabel=\"Longitude\", ylabel=\"Latitude\", legend=:bottomright)\n",
    "plot!(lon24, lat24, label=\"Apr 2024 Center\", lw=1.5, lc=:red)\n",
    "hline!([cy], label=\"Latitude of Intersection\", lw=1.5, ls=:dash, lc=:grey)\n",
    "vline!([cx], label=\"Longitude of Intersection\", lw=1.5, ls=:dash, lc=:grey)\n",
    "plot!(mat_hi_23[1, :], mat_hi_23[2, :], ms=1, color=:blue, label=\"Oct 2023: Total Eclipse Path\")\n",
    "plot!(mat_hi_24[1, :], mat_hi_24[2, :], ms=1, color=:red, label=\"Apr 2024: Total Eclipse Path\")\n",
    "scatter!([rw_lon], [rw_lat], ms=3, mc=:yellow, label=\"Rockwall, Texas\")"
   ]
  },
  {
   "cell_type": "markdown",
   "id": "69f22db2-a08c-4360-ba16-a6f0404809ca",
   "metadata": {},
   "source": [
    "#### Intersection Points of the Annular Rings (Representing the total eclipse swaths)"
   ]
  },
  {
   "cell_type": "code",
   "execution_count": null,
   "id": "80436e70-eb38-4a6a-a94d-715c27ad468d",
   "metadata": {},
   "outputs": [],
   "source": [
    "_, N23 = size(mat_hi_23)\n",
    "_, N24 = size(mat_hi_24)\n",
    "N23_2 = div(N23, 2)\n",
    "N24_2 = div(N24, 2);"
   ]
  },
  {
   "cell_type": "code",
   "execution_count": null,
   "id": "a3869b08-4f5b-4e09-a56d-1f33143b5092",
   "metadata": {},
   "outputs": [],
   "source": [
    "d, imin11, jmin11 = latlon_set_dist(mat_hi_23[:, 1:N23_2], mat_hi_24[:, 1:N24_2])"
   ]
  },
  {
   "cell_type": "code",
   "execution_count": null,
   "id": "80519e87-0add-4966-aeae-ba3a35b604dc",
   "metadata": {},
   "outputs": [],
   "source": [
    "d, imin12, jmin12 = latlon_set_dist(mat_hi_23[:, 1:N23_2], mat_hi_24[:, N24_2:end])\n",
    "jmin12 += N24_2 - 1\n",
    "d, imin12, jmin12"
   ]
  },
  {
   "cell_type": "code",
   "execution_count": null,
   "id": "37702b4c-cd73-4979-8034-f8daa2f8fb6c",
   "metadata": {},
   "outputs": [],
   "source": [
    "d, imin21, jmin21 = latlon_set_dist(mat_hi_23[:, N23_2:end], mat_hi_24[:, 1:N24_2])\n",
    "imin21 += N23_2 - 1\n",
    "d, imin21, jmin21"
   ]
  },
  {
   "cell_type": "code",
   "execution_count": null,
   "id": "c705f7f7-1ce4-4f5d-af06-6cc446007f0b",
   "metadata": {},
   "outputs": [],
   "source": [
    "d, imin22, jmin22 = latlon_set_dist(mat_hi_23[:, N23_2:end], mat_hi_24[:, N24_2:end])\n",
    "imin22 += N23_2 - 1\n",
    "jmin22 += N24_2 - 1\n",
    "d, imin22, jmin22"
   ]
  },
  {
   "cell_type": "code",
   "execution_count": null,
   "id": "6d857a81-6abb-4f47-9804-f9abf20f4d38",
   "metadata": {},
   "outputs": [],
   "source": [
    "mat_hi_23[:, imin11]"
   ]
  },
  {
   "cell_type": "code",
   "execution_count": null,
   "id": "0f50eb49-8f0c-4dc9-bb3f-8e192c70a80d",
   "metadata": {},
   "outputs": [],
   "source": [
    "mat_hi_23[:, imin21]"
   ]
  },
  {
   "cell_type": "code",
   "execution_count": null,
   "id": "d1b3695e-3f4d-430b-b78f-fdb77d4d9893",
   "metadata": {},
   "outputs": [],
   "source": [
    "plot(mat_hi_23[1, 1:N23_2], mat_hi_23[2, 1:N23_2], ms=2, color=:blue, title=\"East Point\") \n",
    "plot!(mat_hi_24[1, 1:N24_2], mat_hi_24[2, 1:N24_2], ms=2, color=:red)"
   ]
  },
  {
   "cell_type": "code",
   "execution_count": null,
   "id": "25565cc6-7e49-4aab-b871-309c8f04d501",
   "metadata": {},
   "outputs": [],
   "source": [
    "mat_hi_23[:, imin11]"
   ]
  },
  {
   "cell_type": "code",
   "execution_count": null,
   "id": "40ecaa24-36da-4f04-b51b-2afcce58d431",
   "metadata": {},
   "outputs": [],
   "source": [
    "plot(mat_hi_23[1, 1:N23_2], mat_hi_23[2, 1:N23_2], ms=2, color=:blue, title=\"North Point\") \n",
    "plot!(mat_hi_24[1, N24_2:end], mat_hi_24[2, N24_2:end], ms=2, color=:red)"
   ]
  },
  {
   "cell_type": "code",
   "execution_count": null,
   "id": "f1cf1d18-8ec5-47d4-b245-e01928d0bc8b",
   "metadata": {},
   "outputs": [],
   "source": [
    "mat_hi_23[:, imin12]"
   ]
  },
  {
   "cell_type": "code",
   "execution_count": null,
   "id": "5020eaf9-69ae-4eed-81db-a1041f76c727",
   "metadata": {},
   "outputs": [],
   "source": [
    "plot(mat_hi_23[1, N23_2:end], mat_hi_23[2, N23_2:end], ms=2, color=:blue, title=\"South Point\") \n",
    "plot!(mat_hi_24[1, 1:N24_2], mat_hi_24[2, 1:N24_2], ms=2, color=:red)"
   ]
  },
  {
   "cell_type": "code",
   "execution_count": null,
   "id": "00ac3a51-11bc-47aa-8d4e-66185a0f15e5",
   "metadata": {},
   "outputs": [],
   "source": [
    "mat_hi_23[:, imin21]"
   ]
  },
  {
   "cell_type": "code",
   "execution_count": null,
   "id": "f00f9a10-f0bb-4c82-bef0-59482fee28f2",
   "metadata": {},
   "outputs": [],
   "source": [
    "plot(mat_hi_23[1, N23_2:end], mat_hi_23[2, N23_2:end], ms=2, color=:blue, title=\"West Point\") \n",
    "plot!(mat_hi_24[1, N24_2:end], mat_hi_24[2, N24_2:end], ms=2, color=:red)"
   ]
  },
  {
   "cell_type": "code",
   "execution_count": null,
   "id": "2589af12-305f-484a-8dd4-0bb5ae3812ec",
   "metadata": {},
   "outputs": [],
   "source": [
    "mat_hi_23[:, imin22]"
   ]
  },
  {
   "cell_type": "code",
   "execution_count": null,
   "id": "cf7efbb9-5fef-482e-afe1-bf6463045adb",
   "metadata": {},
   "outputs": [],
   "source": [
    "mat_hi_24[:, jmin22]"
   ]
  },
  {
   "cell_type": "markdown",
   "id": "8327193c-3d61-4709-ab33-62b768f2f988",
   "metadata": {},
   "source": [
    "### The 4 Corners of the Annular Intersection"
   ]
  },
  {
   "cell_type": "markdown",
   "id": "c78466c7-52b6-49f3-b287-8625d82c0ab5",
   "metadata": {},
   "source": [
    "#### East Point"
   ]
  },
  {
   "cell_type": "code",
   "execution_count": null,
   "id": "83da9bba-6bca-4f1e-bdcb-de97fcd526ae",
   "metadata": {},
   "outputs": [],
   "source": [
    "c1 = geo_midpoint(mat_hi_23[:, imin11], mat_hi_24[:, jmin11])"
   ]
  },
  {
   "cell_type": "markdown",
   "id": "416905e4-7dc5-4986-8b8e-75a0b6a8e94b",
   "metadata": {},
   "source": [
    "#### West Point"
   ]
  },
  {
   "cell_type": "code",
   "execution_count": null,
   "id": "d061f6d0-17f0-4669-904b-3862d23efcee",
   "metadata": {},
   "outputs": [],
   "source": [
    "c4 = geo_midpoint(mat_hi_23[:, imin22], mat_hi_24[:, jmin22])"
   ]
  },
  {
   "cell_type": "markdown",
   "id": "b1b10f05-acd6-4c88-94a2-1b2cfde0ae49",
   "metadata": {},
   "source": [
    "#### North Point"
   ]
  },
  {
   "cell_type": "code",
   "execution_count": null,
   "id": "00ea8fdf-6f89-4c56-9f18-342e57e1c105",
   "metadata": {},
   "outputs": [],
   "source": [
    "c2 = geo_midpoint(mat_hi_23[:, imin12], mat_hi_24[:, jmin12])"
   ]
  },
  {
   "cell_type": "markdown",
   "id": "1b771931-21a0-478d-b745-9578a9f7fd8b",
   "metadata": {},
   "source": [
    "#### South Point"
   ]
  },
  {
   "cell_type": "code",
   "execution_count": null,
   "id": "e5d72979-13e6-41ab-8557-e6cf7c710e3d",
   "metadata": {
    "scrolled": true
   },
   "outputs": [],
   "source": [
    "c3 = geo_midpoint(mat_hi_23[:, imin21], mat_hi_24[:, jmin21])"
   ]
  }
 ],
 "metadata": {
  "kernelspec": {
   "display_name": "Julia 1.10.0",
   "language": "julia",
   "name": "julia-1.10"
  },
  "language_info": {
   "file_extension": ".jl",
   "mimetype": "application/julia",
   "name": "julia",
   "version": "1.10.3"
  }
 },
 "nbformat": 4,
 "nbformat_minor": 5
}
